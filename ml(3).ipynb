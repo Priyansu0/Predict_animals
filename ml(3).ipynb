{
 "cells": [
  {
   "cell_type": "code",
   "execution_count": 4,
   "id": "c34cfa14-beaf-47e9-8054-94ee674d5c99",
   "metadata": {},
   "outputs": [
    {
     "name": "stdout",
     "output_type": "stream",
     "text": [
      "{'mammals': 0.0874288670460424, 'non-mammals': 0.9125711329539576}\n"
     ]
    }
   ],
   "source": [
    " import pandas as pd\n",
    "\n",
    "# Step 1: Load data (use the same table from earlier)\n",
    "data = {\n",
    "    'Name': [\n",
    "        'human', 'python', 'salmon', 'whale', 'frog', 'komodo', 'bat', 'pigeon', 'cat', 'leopard shark',\n",
    "        'turtle', 'penguin', 'porcupine', 'eel', 'salamander', 'gila monster', 'platypus', 'owl', 'dolphin', 'eagle'\n",
    "    ],\n",
    "    'Give Birth': [\n",
    "        'yes', 'no', 'no', 'yes', 'no', 'no', 'yes', 'no', 'yes', 'yes',\n",
    "        'no', 'no', 'yes', 'no', 'no', 'no', 'no', 'no', 'yes', 'no'\n",
    "    ],\n",
    "    'Can Fly': [\n",
    "        'no', 'no', 'no', 'no', 'no', 'no', 'yes', 'yes', 'no', 'no',\n",
    "        'no', 'no', 'no', 'no', 'no', 'no', 'no', 'yes', 'no', 'yes'\n",
    "    ],\n",
    "    'Live in Water': [\n",
    "        'no', 'no', 'yes', 'yes', 'sometimes', 'no', 'no', 'no', 'no', 'yes',\n",
    "        'sometimes', 'sometimes', 'no', 'yes', 'sometimes', 'no', 'no', 'no', 'yes', 'no'\n",
    "    ],\n",
    "    'Have Legs': [\n",
    "        'yes', 'no', 'no', 'no', 'yes', 'yes', 'yes', 'yes', 'yes', 'no',\n",
    "        'yes', 'yes', 'yes', 'no', 'yes', 'yes', 'yes', 'yes', 'no', 'yes'\n",
    "    ],\n",
    "    'Class': [\n",
    "        'mammals', 'non-mammals', 'non-mammals', 'mammals', 'non-mammals', 'non-mammals', 'mammals', 'non-mammals',\n",
    "        'mammals', 'non-mammals', 'non-mammals', 'non-mammals', 'mammals', 'non-mammals', 'non-mammals',\n",
    "        'non-mammals', 'mammals', 'non-mammals', 'mammals', 'non-mammals'\n",
    "    ]\n",
    "}\n",
    "\n",
    "df = pd.DataFrame(data)\n",
    "\n",
    "# Step 2: Define input\n",
    "query = {\n",
    "    'Give Birth': 'no',\n",
    "    'Can Fly': 'no',\n",
    "    'Have Legs': 'yes'\n",
    "}\n",
    "\n",
    "classes = df['Class'].unique()\n",
    "\n",
    "# Step 3: Naive Bayes function\n",
    "def naive_bayes(df, query, target_col='Class'):\n",
    "    total_count = len(df)\n",
    "    results = {}\n",
    "    \n",
    "    for cls in df[target_col].unique():\n",
    "        df_cls = df[df[target_col] == cls]\n",
    "        cls_prob = len(df_cls) / total_count\n",
    "        \n",
    "        cond_prob = 1.0\n",
    "        for attr, value in query.items():\n",
    "            count = len(df_cls[df_cls[attr] == value])\n",
    "            prob = count / len(df_cls)\n",
    "            cond_prob *= prob\n",
    "        \n",
    "        results[cls] = cls_prob * cond_prob\n",
    "\n",
    "    # Normalize results\n",
    "    total = sum(results.values())\n",
    "    for cls in results:\n",
    "        results[cls] = results[cls] / total\n",
    "    \n",
    "    return results\n",
    "\n",
    "# Step 4: Run the model\n",
    "result = naive_bayes(df, query)\n",
    "print(result)\n"
   ]
  },
  {
   "cell_type": "code",
   "execution_count": null,
   "id": "5607e3a1-6ba1-4048-b257-0e590144d2dd",
   "metadata": {},
   "outputs": [],
   "source": []
  }
 ],
 "metadata": {
  "kernelspec": {
   "display_name": "Python [conda env:base] *",
   "language": "python",
   "name": "conda-base-py"
  },
  "language_info": {
   "codemirror_mode": {
    "name": "ipython",
    "version": 3
   },
   "file_extension": ".py",
   "mimetype": "text/x-python",
   "name": "python",
   "nbconvert_exporter": "python",
   "pygments_lexer": "ipython3",
   "version": "3.12.7"
  }
 },
 "nbformat": 4,
 "nbformat_minor": 5
}
